{
 "cells": [
  {
   "cell_type": "code",
   "execution_count": 1,
   "id": "e8bfdf32-8dcc-4349-89e0-e00d3476c40b",
   "metadata": {},
   "outputs": [],
   "source": [
    "##Lire les données\n",
    "import pandas as pd \n",
    "df = pd.read_csv(\"creditcard.csv\")"
   ]
  },
  {
   "cell_type": "code",
   "execution_count": 2,
   "id": "cc345445-b0e1-417e-ab6f-d25fdf66cffe",
   "metadata": {},
   "outputs": [],
   "source": [
    "##supprimer la colonne Time\n",
    "df =df.drop(columns=['Time'])"
   ]
  },
  {
   "cell_type": "code",
   "execution_count": 3,
   "id": "01e0da63-c6ba-4e30-9bf4-f703869e48e7",
   "metadata": {},
   "outputs": [
    {
     "name": "stdout",
     "output_type": "stream",
     "text": [
      "V1        0\n",
      "V2        0\n",
      "V3        0\n",
      "V4        0\n",
      "V5        0\n",
      "V6        0\n",
      "V7        0\n",
      "V8        0\n",
      "V9        0\n",
      "V10       0\n",
      "V11       0\n",
      "V12       0\n",
      "V13       0\n",
      "V14       0\n",
      "V15       0\n",
      "V16       0\n",
      "V17       0\n",
      "V18       0\n",
      "V19       0\n",
      "V20       0\n",
      "V21       0\n",
      "V22       0\n",
      "V23       0\n",
      "V24       0\n",
      "V25       0\n",
      "V26       0\n",
      "V27       0\n",
      "V28       0\n",
      "Amount    0\n",
      "Class     0\n",
      "dtype: int64\n"
     ]
    }
   ],
   "source": [
    " ##Vérifier les valeurs manquantes\n",
    "print(df.isnull().sum())"
   ]
  },
  {
   "cell_type": "code",
   "execution_count": 4,
   "id": "3bcd2022-f09b-4b1e-b93f-fcaeb3db20b9",
   "metadata": {},
   "outputs": [],
   "source": [
    "##Car le montant peut varier beaucoup. On peut utiliser une mise à l’échelle simple \n",
    "from sklearn.preprocessing import StandardScaler\n",
    "df['Amount'] = StandardScaler().fit_transform(df[['Amount']])"
   ]
  },
  {
   "cell_type": "code",
   "execution_count": 5,
   "id": "f771bc0a-1026-421e-a546-f3e8fc7eee0a",
   "metadata": {},
   "outputs": [
    {
     "name": "stdout",
     "output_type": "stream",
     "text": [
      "9144\n"
     ]
    }
   ],
   "source": [
    "##Vérifier les doublons\n",
    "print(df.duplicated().sum())"
   ]
  },
  {
   "cell_type": "code",
   "execution_count": 6,
   "id": "d5e2e6c3-75a1-463d-b452-db3fb10a411e",
   "metadata": {},
   "outputs": [],
   "source": [
    "##Si le résultat est plus que 0, tu peux les supprimer \n",
    "df =df.drop_duplicates()"
   ]
  },
  {
   "cell_type": "code",
   "execution_count": 7,
   "id": "f61098b7-59e3-41ea-a8d1-7da220fbf8bd",
   "metadata": {},
   "outputs": [
    {
     "name": "stdout",
     "output_type": "stream",
     "text": [
      "Class\n",
      "0    275190\n",
      "1       473\n",
      "Name: count, dtype: int64\n"
     ]
    }
   ],
   "source": [
    "##Vérifier l’équilibre entre fraudes et normales\n",
    "print(df['Class'].value_counts())"
   ]
  },
  {
   "cell_type": "code",
   "execution_count": 8,
   "id": "1310aad1-b351-45e8-80f2-014b56ae158f",
   "metadata": {},
   "outputs": [],
   "source": [
    " ##Équilibrer les données\n",
    "from imblearn.over_sampling import SMOTE\n",
    "from sklearn.model_selection import train_test_split\n",
    "\n",
    "X = df.drop('Class', axis=1)\n",
    "y = df['Class']\n",
    "\n",
    "X_train, X_test, y_train, y_test = train_test_split(X, y, test_size=0.2, random_state=42)\n",
    "sm = SMOTE(random_state=42)\n",
    "X_res, y_res = sm.fit_resample(X_train, y_train)"
   ]
  },
  {
   "cell_type": "code",
   "execution_count": 9,
   "id": "add1d9e7-34ef-4c22-8857-4cfdbc62cdbc",
   "metadata": {},
   "outputs": [
    {
     "name": "stdout",
     "output_type": "stream",
     "text": [
      "Taille X_res: (440296, 29)\n",
      "Nombre de classes dans y_res :\n",
      "Class\n",
      "0    220148\n",
      "1    220148\n",
      "Name: count, dtype: int64\n"
     ]
    }
   ],
   "source": [
    "print('Taille X_res:', X_res.shape)\n",
    "print('Nombre de classes dans y_res :')\n",
    "print(pd.Series(y_res).value_counts())"
   ]
  },
  {
   "cell_type": "code",
   "execution_count": 11,
   "id": "c7835283-2a87-4daa-a633-2dfff016c682",
   "metadata": {},
   "outputs": [],
   "source": [
    "# Sauvegarder train équilibré\n",
    "X_res_df = pd.DataFrame(X_res, columns=X_train.columns)\n",
    "X_res_df['Class'] = y_res\n",
    "X_res_df.to_csv('data_train_after_smote.csv', index=False)"
   ]
  },
  {
   "cell_type": "code",
   "execution_count": 13,
   "id": "bc0d2dc7-1095-4bee-86dd-dc7e1dd0ffbc",
   "metadata": {},
   "outputs": [],
   "source": [
    "# Sauvegarder test d’origine (non équilibré)\n",
    "df_test = X_test.copy()\n",
    "df_test['Class'] = y_test\n",
    "df_test.to_csv('data_test.csv', index=False)"
   ]
  },
  {
   "cell_type": "code",
   "execution_count": null,
   "id": "7f268d51-6e1c-42bd-a3de-51cf6c2522ec",
   "metadata": {},
   "outputs": [],
   "source": []
  }
 ],
 "metadata": {
  "kernelspec": {
   "display_name": "Python 3 (ipykernel)",
   "language": "python",
   "name": "python3"
  },
  "language_info": {
   "codemirror_mode": {
    "name": "ipython",
    "version": 3
   },
   "file_extension": ".py",
   "mimetype": "text/x-python",
   "name": "python",
   "nbconvert_exporter": "python",
   "pygments_lexer": "ipython3",
   "version": "3.13.3"
  }
 },
 "nbformat": 4,
 "nbformat_minor": 5
}
